{
 "cells": [
  {
   "cell_type": "code",
   "execution_count": 5,
   "id": "5fc47932",
   "metadata": {},
   "outputs": [
    {
     "ename": "ERROR",
     "evalue": "Error in library(tidyverse): there is no package called 'tidyverse'\n",
     "output_type": "error",
     "traceback": [
      "Error in library(tidyverse): there is no package called 'tidyverse'\nTraceback:\n",
      "1. library(tidyverse)"
     ]
    }
   ],
   "source": [
    "library(bbmle)\n",
    "library(tidyverse)\n",
    "library(deSolve)\n",
    "dev.new(width=8, height=3.5)"
   ]
  },
  {
   "cell_type": "code",
   "execution_count": 4,
   "id": "07f878fc",
   "metadata": {},
   "outputs": [
    {
     "name": "stderr",
     "output_type": "stream",
     "text": [
      "also installing the dependencies 'processx', 'xfun', 'lifecycle', 'tidyselect', 'vctrs', 'scales', 'gargle', 'timechange', 'systemfonts', 'vroom', 'callr', 'knitr', 'glue', 'broom', 'conflicted', 'cli', 'dbplyr', 'dplyr', 'dtplyr', 'forcats', 'ggplot2', 'googledrive', 'googlesheets4', 'haven', 'hms', 'jsonlite', 'lubridate', 'magrittr', 'modelr', 'pillar', 'purrr', 'ragg', 'readr', 'readxl', 'reprex', 'rlang', 'rvest', 'stringr', 'tibble', 'tidyr', 'xml2'\n",
      "\n"
     ]
    },
    {
     "name": "stdout",
     "output_type": "stream",
     "text": [
      "\n",
      "  There are binary versions available but the source versions are later:\n",
      "              binary source needs_compilation\n",
      "processx       3.5.2  3.8.1              TRUE\n",
      "xfun            0.22   0.39              TRUE\n",
      "lifecycle      1.0.0  1.0.3             FALSE\n",
      "tidyselect     1.1.1  1.2.0             FALSE\n",
      "vctrs          0.3.8  0.6.2              TRUE\n",
      "scales         1.1.1  1.2.1             FALSE\n",
      "gargle         1.1.0  1.4.0             FALSE\n",
      "timechange     0.0.2  0.2.0              TRUE\n",
      "systemfonts    1.0.2  1.0.4              TRUE\n",
      "vroom          1.4.0  1.6.3              TRUE\n",
      "callr          3.7.0  3.7.3             FALSE\n",
      "knitr           1.33   1.42             FALSE\n",
      "glue           1.4.2  1.6.2              TRUE\n",
      "broom          0.7.6  1.0.4             FALSE\n",
      "conflicted     1.0.4  1.2.0             FALSE\n",
      "cli            2.5.0  3.6.1              TRUE\n",
      "dbplyr         2.1.1  2.3.2             FALSE\n",
      "dplyr          1.0.6  1.1.2              TRUE\n",
      "dtplyr         1.1.0  1.3.1             FALSE\n",
      "forcats        0.5.1  1.0.0             FALSE\n",
      "ggplot2        3.3.3  3.4.2             FALSE\n",
      "googledrive    1.0.1  2.1.0             FALSE\n",
      "googlesheets4  0.3.0  1.1.0             FALSE\n",
      "haven          2.4.1  2.5.2              TRUE\n",
      "hms            1.0.0  1.1.3             FALSE\n",
      "jsonlite       1.7.2  1.8.4              TRUE\n",
      "lubridate     1.7.10  1.9.2              TRUE\n",
      "magrittr       2.0.1  2.0.3              TRUE\n",
      "modelr         0.1.8 0.1.11             FALSE\n",
      "pillar         1.6.0  1.9.0             FALSE\n",
      "purrr          0.3.4  1.0.1              TRUE\n",
      "ragg           1.1.2  1.2.5              TRUE\n",
      "readr          1.4.0  2.1.4              TRUE\n",
      "readxl         1.3.1  1.4.2              TRUE\n",
      "reprex         2.0.0  2.0.2             FALSE\n",
      "rlang         0.4.11  1.1.1              TRUE\n",
      "rvest          1.0.0  1.0.3             FALSE\n",
      "stringr        1.4.0  1.5.0             FALSE\n",
      "tibble         3.1.1  3.2.1              TRUE\n",
      "tidyr          1.1.3  1.3.0              TRUE\n",
      "xml2           1.3.2  1.3.4              TRUE\n",
      "tidyverse      1.3.1  2.0.0             FALSE\n",
      "\n",
      "  Binaries will be installed\n",
      "package 'processx' successfully unpacked and MD5 sums checked\n",
      "package 'xfun' successfully unpacked and MD5 sums checked\n",
      "package 'vctrs' successfully unpacked and MD5 sums checked\n",
      "package 'timechange' successfully unpacked and MD5 sums checked\n",
      "package 'systemfonts' successfully unpacked and MD5 sums checked\n",
      "package 'vroom' successfully unpacked and MD5 sums checked\n",
      "package 'glue' successfully unpacked and MD5 sums checked\n",
      "package 'cli' successfully unpacked and MD5 sums checked\n",
      "package 'dplyr' successfully unpacked and MD5 sums checked\n",
      "package 'haven' successfully unpacked and MD5 sums checked\n",
      "package 'jsonlite' successfully unpacked and MD5 sums checked\n"
     ]
    },
    {
     "name": "stderr",
     "output_type": "stream",
     "text": [
      "Warning message:\n",
      "\"cannot remove prior installation of package 'jsonlite'\"Warning message in file.copy(savedcopy, lib, recursive = TRUE):\n",
      "\"problem copying D:\\Anaconda\\envs\\myenv\\lib\\R\\library\\00LOCK\\jsonlite\\libs\\x64\\jsonlite.dll to D:\\Anaconda\\envs\\myenv\\lib\\R\\library\\jsonlite\\libs\\x64\\jsonlite.dll: Permission denied\"Warning message:\n",
      "\"restored 'jsonlite'\""
     ]
    },
    {
     "name": "stdout",
     "output_type": "stream",
     "text": [
      "package 'lubridate' successfully unpacked and MD5 sums checked\n",
      "package 'magrittr' successfully unpacked and MD5 sums checked\n",
      "package 'purrr' successfully unpacked and MD5 sums checked\n",
      "package 'ragg' successfully unpacked and MD5 sums checked\n",
      "package 'readr' successfully unpacked and MD5 sums checked\n",
      "package 'readxl' successfully unpacked and MD5 sums checked\n",
      "package 'rlang' successfully unpacked and MD5 sums checked\n",
      "package 'tibble' successfully unpacked and MD5 sums checked\n",
      "package 'tidyr' successfully unpacked and MD5 sums checked\n",
      "package 'xml2' successfully unpacked and MD5 sums checked\n",
      "\n",
      "The downloaded binary packages are in\n",
      "\tC:\\Users\\joely\\AppData\\Local\\Temp\\RtmpaA1pG6\\downloaded_packages\n"
     ]
    },
    {
     "name": "stderr",
     "output_type": "stream",
     "text": [
      "installing the source packages 'lifecycle', 'tidyselect', 'scales', 'gargle', 'callr', 'knitr', 'broom', 'conflicted', 'dbplyr', 'dtplyr', 'forcats', 'ggplot2', 'googledrive', 'googlesheets4', 'hms', 'modelr', 'pillar', 'reprex', 'rvest', 'stringr', 'tidyverse'\n",
      "\n",
      "Warning message in install.packages(\"tidyverse\"):\n",
      "\"installation of package 'lifecycle' had non-zero exit status\"Warning message in install.packages(\"tidyverse\"):\n",
      "\"installation of package 'callr' had non-zero exit status\"Warning message in install.packages(\"tidyverse\"):\n",
      "\"installation of package 'knitr' had non-zero exit status\"Warning message in install.packages(\"tidyverse\"):\n",
      "\"installation of package 'conflicted' had non-zero exit status\"Warning message in install.packages(\"tidyverse\"):\n",
      "\"installation of package 'tidyselect' had non-zero exit status\"Warning message in install.packages(\"tidyverse\"):\n",
      "\"installation of package 'scales' had non-zero exit status\"Warning message in install.packages(\"tidyverse\"):\n",
      "\"installation of package 'gargle' had non-zero exit status\"Warning message in install.packages(\"tidyverse\"):\n",
      "\"installation of package 'forcats' had non-zero exit status\"Warning message in install.packages(\"tidyverse\"):\n",
      "\"installation of package 'hms' had non-zero exit status\"Warning message in install.packages(\"tidyverse\"):\n",
      "\"installation of package 'pillar' had non-zero exit status\"Warning message in install.packages(\"tidyverse\"):\n",
      "\"installation of package 'reprex' had non-zero exit status\"Warning message in install.packages(\"tidyverse\"):\n",
      "\"installation of package 'rvest' had non-zero exit status\"Warning message in install.packages(\"tidyverse\"):\n",
      "\"installation of package 'stringr' had non-zero exit status\"Warning message in install.packages(\"tidyverse\"):\n",
      "\"installation of package 'broom' had non-zero exit status\"Warning message in install.packages(\"tidyverse\"):\n",
      "\"installation of package 'dbplyr' had non-zero exit status\"Warning message in install.packages(\"tidyverse\"):\n",
      "\"installation of package 'dtplyr' had non-zero exit status\"Warning message in install.packages(\"tidyverse\"):\n",
      "\"installation of package 'ggplot2' had non-zero exit status\"Warning message in install.packages(\"tidyverse\"):\n",
      "\"installation of package 'googledrive' had non-zero exit status\"Warning message in install.packages(\"tidyverse\"):\n",
      "\"installation of package 'googlesheets4' had non-zero exit status\"Warning message in install.packages(\"tidyverse\"):\n",
      "\"installation of package 'modelr' had non-zero exit status\"Warning message in install.packages(\"tidyverse\"):\n",
      "\"installation of package 'tidyverse' had non-zero exit status\""
     ]
    }
   ],
   "source": [
    "install.packages('tidyverse')"
   ]
  },
  {
   "cell_type": "markdown",
   "id": "ab9cf980",
   "metadata": {},
   "source": [
    "## Dataset\n",
    "Using the dataset obtained from Kelley Islands Influenza outbreak in 1920. "
   ]
  },
  {
   "cell_type": "code",
   "execution_count": 2,
   "id": "b8a55d07",
   "metadata": {},
   "outputs": [
    {
     "ename": "ERROR",
     "evalue": "Error in select(data.frame(read.csv(\"Datasets/Chapter5.csv\")), c(\"days\", : could not find function \"select\"\n",
     "output_type": "error",
     "traceback": [
      "Error in select(data.frame(read.csv(\"Datasets/Chapter5.csv\")), c(\"days\", : could not find function \"select\"\nTraceback:\n"
     ]
    }
   ],
   "source": [
    "df <- select(data.frame(read.csv('Datasets/Chapter5.csv')), c('days', 'cases'))\n",
    "plot(df$days, df$cases, xlab='Days', ylab='Incidence', col='red', pch=4, lwd=1.6)\n",
    "title('Kelley Islands Flu Outbreak 1920')\n",
    "N <- 689\n",
    "\n",
    "initial_data <- c(S=N-4, E=4, I=0, R=0)\n",
    "initial_data"
   ]
  },
  {
   "cell_type": "markdown",
   "id": "2f859c0d",
   "metadata": {},
   "source": [
    "## SEIR Model\n",
    "\n",
    "$\\frac{dS}{dt} = -\\frac{\\beta{S}{I}}{N}$\n",
    "\n",
    "$\\frac{dE}{dt} = \\frac{\\beta{S}{I}}{N} - \\alpha{E}$\n",
    "\n",
    "$\\frac{dI}{dt} = \\alpha {E} - \\gamma{I}$\n",
    "\n",
    "$\\frac{dZ}{dt} = \\gamma{I}$"
   ]
  },
  {
   "cell_type": "code",
   "execution_count": 48,
   "id": "d12d7489",
   "metadata": {},
   "outputs": [],
   "source": [
    "model <- function(parameters, initial_conditions, time){\n",
    "    equations <- function(time, variables, parameters) {\n",
    "        with(as.list(c(variables, parameters)), {\n",
    "            N <- S+E+I+R\n",
    "            dS <- -beta * I * S/N\n",
    "            dE <- beta * S*I/N - alpha * E\n",
    "            dI <- alpha*E - gamma*I\n",
    "            dR <-  gamma * I\n",
    "            return(list(c(dS, dE, dI, dR)))\n",
    "        })\n",
    "    }\n",
    "    out <- ode(\n",
    "        y = initial_conditions,\n",
    "        times = c(0,time),\n",
    "        func = equations,\n",
    "        parms = parameters\n",
    "    )\n",
    "    return(as.data.frame(out)[-1,])\n",
    "}"
   ]
  },
  {
   "cell_type": "markdown",
   "id": "9800a2db",
   "metadata": {},
   "source": [
    "Along with incidence curve generated by: \n",
    "\n",
    "$C_I(d) \\approx \\alpha h[\\frac{1}{2}(E(d)+E(d+1)) + \\sum_{j=1}^{m-1}{E(t_j)}]$"
   ]
  },
  {
   "cell_type": "code",
   "execution_count": 49,
   "id": "6c7642d0",
   "metadata": {},
   "outputs": [],
   "source": [
    "tau_incidence <- function(params, from, to, n=100){\n",
    "    time_points <- seq(from, to, 1/n)\n",
    "    model_data <- model(params, initial_conditions=initial_data, time=time_points)\n",
    "    model_data$C <- params['beta']*model_data$S*model_data$I/N\n",
    "    ends <- tail(model_data$C, n=1) + model_data$C[1] \n",
    "    total <- sum(model_data$C) - 0.5*ends\n",
    "    return(1/n*total)\n",
    "}"
   ]
  },
  {
   "cell_type": "code",
   "execution_count": 50,
   "id": "dc4f8da5",
   "metadata": {},
   "outputs": [],
   "source": [
    "incidence_curve <- function(params, times){\n",
    "    inc_data <- data.frame(time=times[1], incidence=tau_incidence(params, times[1], times[2]))\n",
    "    for(i in 2:length(times)){\n",
    "        instant <- tau_incidence(params, times[i-1], times[i])\n",
    "        inc_data[nrow(inc_data) + 1,] = c(times[i-1], instant)\n",
    "    }\n",
    "    return(inc_data)\n",
    "}"
   ]
  },
  {
   "cell_type": "markdown",
   "id": "6fada028",
   "metadata": {},
   "source": [
    "## Least Squares"
   ]
  },
  {
   "cell_type": "code",
   "execution_count": 52,
   "id": "7e2c7498",
   "metadata": {},
   "outputs": [],
   "source": [
    "time_length <- 30\n",
    "incidence_times <- seq(0, time_length, 0.1)\n",
    "ss <- function(params){\n",
    "    predictions <- incidence_curve(params, times = df$days)\n",
    "    sum((predictions$incidence - df$cases)^2)\n",
    "}\n",
    "starting_param_val <- c(beta=1.9, gamma=1.4, alpha=0.5)\n",
    "ss_optim <- optim(starting_param_val, ss)"
   ]
  },
  {
   "cell_type": "code",
   "execution_count": 53,
   "id": "ce455a6b",
   "metadata": {
    "scrolled": false
   },
   "outputs": [
    {
     "data": {
      "image/png": "[encoded data removed]",
      "text/plain": [
       "Plot with title \"SEIR curve\""
      ]
     },
     "metadata": {},
     "output_type": "display_data"
    }
   ],
   "source": [
    "params<- ss_optim$par\n",
    "times <- seq(0,time_length, 0.1)\n",
    "data <- model(params, initial_data, times)\n",
    "plot(loess(data$S~times),type='l', col='blue',  xlab='Days', ylab='No. of members', pch=4, lwd=1.6, ylim=c(0,700))\n",
    "\n",
    "legend(20, 700, legend=c(\"Susceptible\", \"Exposed\", \"Infected\", \"Recovered\"), col=c(\"blue\", \"yellow\", \"red\",\"green\"),\n",
    "       lty=1, y.intersp=2)\n",
    "lines(loess(data$E~times), type='l',col='yellow')\n",
    "lines(loess(data$I~times),type='l', col='red' )\n",
    "lines(loess(data$R~times),type='l', col='green')\n",
    "\n",
    "title('SEIR curve')"
   ]
  },
  {
   "cell_type": "code",
   "execution_count": 54,
   "id": "4eafcd72",
   "metadata": {
    "scrolled": true
   },
   "outputs": [
    {
     "data": {
      "text/html": [
       "<dl class=dl-horizontal>\n",
       "\t<dt>beta</dt>\n",
       "\t\t<dd>2.72383562795862</dd>\n",
       "\t<dt>gamma</dt>\n",
       "\t\t<dd>1.89778398783796</dd>\n",
       "\t<dt>alpha</dt>\n",
       "\t\t<dd>1.89761618745087</dd>\n",
       "</dl>\n"
      ],
      "text/latex": [
       "\\begin{description*}\n",
       "\\item[beta] 2.72383562795862\n",
       "\\item[gamma] 1.89778398783796\n",
       "\\item[alpha] 1.89761618745087\n",
       "\\end{description*}\n"
      ],
      "text/markdown": [
       "beta\n",
       ":   2.72383562795862gamma\n",
       ":   1.89778398783796alpha\n",
       ":   1.89761618745087\n",
       "\n"
      ],
      "text/plain": [
       "    beta    gamma    alpha \n",
       "2.723836 1.897784 1.897616 "
      ]
     },
     "metadata": {},
     "output_type": "display_data"
    }
   ],
   "source": [
    "params"
   ]
  },
  {
   "cell_type": "code",
   "execution_count": 65,
   "id": "2ec77672",
   "metadata": {},
   "outputs": [
    {
     "data": {
      "image/png": "[encoded data removed]",
      "text/plain": [
       "plot without title"
      ]
     },
     "metadata": {},
     "output_type": "display_data"
    }
   ],
   "source": [
    "inc_data <- incidence_curve(params=params, times=seq(0,30))\n",
    "plot(df$days, df$cases, xlab='Days', ylab='Incidence', col='green', pch=4, lwd=1.6)\n",
    "points(df$days, inc_data[-1,]$incidence, col='red', pch=4, lwd=1.6)\n",
    "legend(20, 40, legend=c(\"Actual\", \"Predicted\", \"Error\"), col=c(\"green\", \"red\", \"orange\"), lty=1:1,lwd=1.6, y.intersp=2)\n",
    "arrows(df$days, df$cases,df$days, inc_data[-1,]$incidence, length=0.1, angle=90, code=0, col='orange', lwd=1.7)"
   ]
  },
  {
   "cell_type": "markdown",
   "id": "7a3e9677",
   "metadata": {},
   "source": [
    "## SIR Model\n",
    "The SEIR model gave unrealistic results (the best fit parameters were outside of sensible bounds). We try fitting to an SIR model with incidence"
   ]
  },
  {
   "cell_type": "code",
   "execution_count": 6,
   "id": "8d86398a",
   "metadata": {},
   "outputs": [
    {
     "ename": "ERROR",
     "evalue": "Error in eval(expr, envir, enclos): object 'N' not found\n",
     "output_type": "error",
     "traceback": [
      "Error in eval(expr, envir, enclos): object 'N' not found\nTraceback:\n"
     ]
    }
   ],
   "source": [
    "sir_model <- function(beta, gamma, initial_conditions, times){\n",
    "    equations <- function(time, variables, parameters) {\n",
    "        with(as.list(c(variables, parameters)), {\n",
    "            N <- X+Y+Z\n",
    "            dX <- -beta * X * Y/N\n",
    "            dY <- beta * X*Y/N - gamma * Y\n",
    "            dZ <-  gamma * Y\n",
    "            return(list(c(dX, dY, dZ)))\n",
    "        })\n",
    "    }\n",
    "    out <- ode(\n",
    "        y = initial_conditions,\n",
    "        times = c(0,times),\n",
    "        func = equations,\n",
    "        parms = c(beta=beta, gamma=gamma) \n",
    "    )\n",
    "    # Always have to pass t=0 state to ode solver as it gets it's IC from t=0.\n",
    "    return(as.data.frame(out)[-1,])\n",
    "}\n",
    "sir_initial_data <- c(S=N-4, I=4, R=0)\n"
   ]
  },
  {
   "cell_type": "code",
   "execution_count": null,
   "id": "04cb4a5d",
   "metadata": {},
   "outputs": [],
   "source": [
    "sir_tau_incidence <- function(params, from, to, n=100){\n",
    "    time_points <- seq(from, to, 1/n)\n",
    "    model_data <- sir_model(params, initial_conditions=initial_data, time=time_points)\n",
    "    model_data$C <- params['beta']*model_data$S*model_data$I/N\n",
    "    ends <- tail(model_data$C, n=1) + model_data$C[1] \n",
    "    total <- sum(model_data$C) - 0.5*ends\n",
    "    return(1/n*total)\n",
    "}"
   ]
  }
 ],
 "metadata": {
  "kernelspec": {
   "display_name": "R",
   "language": "R",
   "name": "ir"
  },
  "language_info": {
   "codemirror_mode": "r",
   "file_extension": ".r",
   "mimetype": "text/x-r-source",
   "name": "R",
   "pygments_lexer": "r",
   "version": "3.6.1"
  }
 },
 "nbformat": 4,
 "nbformat_minor": 5
}
