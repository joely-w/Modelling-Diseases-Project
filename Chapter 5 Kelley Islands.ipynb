{
 "cells": [
  {
   "cell_type": "code",
   "execution_count": 46,
   "id": "5fc47932",
   "metadata": {},
   "outputs": [],
   "source": [
    "library(bbmle)\n",
    "library(tidyverse)\n",
    "library(deSolve)\n",
    "dev.new(width=8, height=3.5)"
   ]
  },
  {
   "cell_type": "markdown",
   "id": "ab9cf980",
   "metadata": {},
   "source": [
    "## Dataset\n",
    "Using the dataset obtained from Kelley Islands Influenza outbreak in 1920. "
   ]
  },
  {
   "cell_type": "code",
   "execution_count": 47,
   "id": "b8a55d07",
   "metadata": {},
   "outputs": [
    {
     "data": {
      "text/html": [
       "<dl class=dl-horizontal>\n",
       "\t<dt>S</dt>\n",
       "\t\t<dd>685</dd>\n",
       "\t<dt>E</dt>\n",
       "\t\t<dd>4</dd>\n",
       "\t<dt>I</dt>\n",
       "\t\t<dd>0</dd>\n",
       "\t<dt>R</dt>\n",
       "\t\t<dd>0</dd>\n",
       "</dl>\n"
      ],
      "text/latex": [
       "\\begin{description*}\n",
       "\\item[S] 685\n",
       "\\item[E] 4\n",
       "\\item[I] 0\n",
       "\\item[R] 0\n",
       "\\end{description*}\n"
      ],
      "text/markdown": [
       "S\n",
       ":   685E\n",
       ":   4I\n",
       ":   0R\n",
       ":   0\n",
       "\n"
      ],
      "text/plain": [
       "  S   E   I   R \n",
       "685   4   0   0 "
      ]
     },
     "metadata": {},
     "output_type": "display_data"
    },
    {
     "data": {
      "image/png": "[encoded data removed]",
      "text/plain": [
       "Plot with title \"Kelley Islands Flu Outbreak 1920\""
      ]
     },
     "metadata": {},
     "output_type": "display_data"
    }
   ],
   "source": [
    "df <- select(data.frame(read.csv('Datasets/Chapter5.csv')), c('days', 'cases'))\n",
    "plot(df$days, df$cases, xlab='Days', ylab='Incidence', col='red', pch=4, lwd=1.6)\n",
    "title('Kelley Islands Flu Outbreak 1920')\n",
    "N <- 689\n",
    "\n",
    "initial_data <- c(S=N-4, E=4, I=0, R=0)\n",
    "initial_data"
   ]
  },
  {
   "cell_type": "markdown",
   "id": "2f859c0d",
   "metadata": {},
   "source": [
    "## SEIR Model\n",
    "\n",
    "$\\frac{dS}{dt} = -\\frac{\\beta{S}{I}}{N}$\n",
    "\n",
    "$\\frac{dE}{dt} = \\frac{\\beta{S}{I}}{N} - \\alpha{E}$\n",
    "\n",
    "$\\frac{dI}{dt} = \\alpha {E} - \\gamma{I}$\n",
    "\n",
    "$\\frac{dZ}{dt} = \\gamma{I}$"
   ]
  },
  {
   "cell_type": "code",
   "execution_count": 48,
   "id": "d12d7489",
   "metadata": {},
   "outputs": [],
   "source": [
    "model <- function(parameters, initial_conditions, time){\n",
    "    equations <- function(time, variables, parameters) {\n",
    "        with(as.list(c(variables, parameters)), {\n",
    "            N <- S+E+I+R\n",
    "            dS <- -beta * I * S/N\n",
    "            dE <- beta * S*I/N - alpha * E\n",
    "            dI <- alpha*E - gamma*I\n",
    "            dR <-  gamma * I\n",
    "            return(list(c(dS, dE, dI, dR)))\n",
    "        })\n",
    "    }\n",
    "    out <- ode(\n",
    "        y = initial_conditions,\n",
    "        times = c(0,time),\n",
    "        func = equations,\n",
    "        parms = parameters\n",
    "    )\n",
    "    return(as.data.frame(out)[-1,])\n",
    "}"
   ]
  },
  {
   "cell_type": "markdown",
   "id": "9800a2db",
   "metadata": {},
   "source": [
    "Along with incidence curve generated by: \n",
    "\n",
    "$C_I(d) \\approx \\alpha h[\\frac{1}{2}(E(d)+E(d+1)) + \\sum_{j=1}^{m-1}{E(t_j)}]$"
   ]
  },
  {
   "cell_type": "code",
   "execution_count": 49,
   "id": "6c7642d0",
   "metadata": {},
   "outputs": [],
   "source": [
    "tau_incidence <- function(params, from, to, n=100){\n",
    "    time_points <- seq(from, to, 1/n)\n",
    "    model_data <- model(params, initial_conditions=initial_data, time=time_points)\n",
    "    model_data$C <- params['beta']*model_data$S*model_data$I/N\n",
    "    ends <- tail(model_data$C, n=1) + model_data$C[1] \n",
    "    total <- sum(model_data$C) - 0.5*ends\n",
    "    return(1/n*total)\n",
    "}"
   ]
  },
  {
   "cell_type": "code",
   "execution_count": 50,
   "id": "dc4f8da5",
   "metadata": {},
   "outputs": [],
   "source": [
    "incidence_curve <- function(params, times){\n",
    "    inc_data <- data.frame(time=times[1], incidence=tau_incidence(params, times[1], times[2]))\n",
    "    for(i in 2:length(times)){\n",
    "        instant <- tau_incidence(params, times[i-1], times[i])\n",
    "        inc_data[nrow(inc_data) + 1,] = c(times[i-1], instant)\n",
    "    }\n",
    "    return(inc_data)\n",
    "}"
   ]
  },
  {
   "cell_type": "markdown",
   "id": "033ebf02",
   "metadata": {},
   "source": [
    "## SIR Model"
   ]
  },
  {
   "cell_type": "code",
   "execution_count": 51,
   "id": "8df78aac",
   "metadata": {},
   "outputs": [],
   "source": [
    "sir <- function(beta, gamma, initial_conditions, times){\n",
    "    equations <- function(time, variables, parameters) {\n",
    "        with(as.list(c(variables, parameters)), {\n",
    "            N <- X+Y+Z\n",
    "            dX <- -beta * X * Y/N\n",
    "            dY <- beta * X*Y/N - gamma * Y\n",
    "            dZ <-  gamma * Y\n",
    "            return(list(c(dX, dY, dZ)))\n",
    "        })\n",
    "    }\n",
    "    out <- ode(\n",
    "        y = initial_conditions,\n",
    "        times = c(0,times),\n",
    "        func = equations,\n",
    "        parms = c(beta=beta, gamma=gamma) \n",
    "    )\n",
    "    # Always have to pass t=0 state to ode solver as it gets it's IC from t=0.\n",
    "    return(as.data.frame(out)[-1,])\n",
    "}"
   ]
  },
  {
   "cell_type": "markdown",
   "id": "6fada028",
   "metadata": {},
   "source": [
    "## Least Squares"
   ]
  },
  {
   "cell_type": "code",
   "execution_count": 52,
   "id": "7e2c7498",
   "metadata": {},
   "outputs": [],
   "source": [
    "time_length <- 30\n",
    "incidence_times <- seq(0, time_length, 0.1)\n",
    "ss <- function(params){\n",
    "    predictions <- incidence_curve(params, times = df$days)\n",
    "    sum((predictions$incidence - df$cases)^2)\n",
    "}\n",
    "starting_param_val <- c(beta=1.9, gamma=1.4, alpha=0.5)\n",
    "ss_optim <- optim(starting_param_val, ss)"
   ]
  },
  {
   "cell_type": "code",
   "execution_count": 53,
   "id": "ce455a6b",
   "metadata": {
    "scrolled": false
   },
   "outputs": [
    {
     "data": {
      "image/png": "[encoded data removed]",
      "text/plain": [
       "Plot with title \"SEIR curve\""
      ]
     },
     "metadata": {},
     "output_type": "display_data"
    }
   ],
   "source": [
    "params<- ss_optim$par\n",
    "times <- seq(0,time_length, 0.1)\n",
    "data <- model(params, initial_data, times)\n",
    "plot(loess(data$S~times),type='l', col='blue',  xlab='Days', ylab='No. of members', pch=4, lwd=1.6, ylim=c(0,700))\n",
    "\n",
    "legend(20, 700, legend=c(\"Susceptible\", \"Exposed\", \"Infected\", \"Recovered\"), col=c(\"blue\", \"yellow\", \"red\",\"green\"),\n",
    "       lty=1, y.intersp=2)\n",
    "lines(loess(data$E~times), type='l',col='yellow')\n",
    "lines(loess(data$I~times),type='l', col='red' )\n",
    "lines(loess(data$R~times),type='l', col='green')\n",
    "\n",
    "title('SEIR curve')"
   ]
  },
  {
   "cell_type": "code",
   "execution_count": 54,
   "id": "4eafcd72",
   "metadata": {
    "scrolled": true
   },
   "outputs": [
    {
     "data": {
      "text/html": [
       "<dl class=dl-horizontal>\n",
       "\t<dt>beta</dt>\n",
       "\t\t<dd>2.72383562795862</dd>\n",
       "\t<dt>gamma</dt>\n",
       "\t\t<dd>1.89778398783796</dd>\n",
       "\t<dt>alpha</dt>\n",
       "\t\t<dd>1.89761618745087</dd>\n",
       "</dl>\n"
      ],
      "text/latex": [
       "\\begin{description*}\n",
       "\\item[beta] 2.72383562795862\n",
       "\\item[gamma] 1.89778398783796\n",
       "\\item[alpha] 1.89761618745087\n",
       "\\end{description*}\n"
      ],
      "text/markdown": [
       "beta\n",
       ":   2.72383562795862gamma\n",
       ":   1.89778398783796alpha\n",
       ":   1.89761618745087\n",
       "\n"
      ],
      "text/plain": [
       "    beta    gamma    alpha \n",
       "2.723836 1.897784 1.897616 "
      ]
     },
     "metadata": {},
     "output_type": "display_data"
    }
   ],
   "source": [
    "params"
   ]
  },
  {
   "cell_type": "code",
   "execution_count": 65,
   "id": "2ec77672",
   "metadata": {},
   "outputs": [
    {
     "data": {
      "image/png": "[encoded data removed]",
      "text/plain": [
       "plot without title"
      ]
     },
     "metadata": {},
     "output_type": "display_data"
    }
   ],
   "source": [
    "inc_data <- incidence_curve(params=params, times=seq(0,30))\n",
    "plot(df$days, df$cases, xlab='Days', ylab='Incidence', col='green', pch=4, lwd=1.6)\n",
    "points(df$days, inc_data[-1,]$incidence, col='red', pch=4, lwd=1.6)\n",
    "legend(20, 40, legend=c(\"Actual\", \"Predicted\", \"Error\"), col=c(\"green\", \"red\", \"orange\"), lty=1:1,lwd=1.6, y.intersp=2)\n",
    "arrows(df$days, df$cases,df$days, inc_data[-1,]$incidence, length=0.1, angle=90, code=0, col='orange', lwd=1.7)"
   ]
  }
 ],
 "metadata": {
  "kernelspec": {
   "display_name": "R",
   "language": "R",
   "name": "ir"
  },
  "language_info": {
   "codemirror_mode": "r",
   "file_extension": ".r",
   "mimetype": "text/x-r-source",
   "name": "R",
   "pygments_lexer": "r",
   "version": "3.6.1"
  }
 },
 "nbformat": 4,
 "nbformat_minor": 5
}
