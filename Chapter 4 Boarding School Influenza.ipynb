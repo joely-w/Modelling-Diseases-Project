{
 "cells": [
  {
   "cell_type": "code",
   "execution_count": 85,
   "id": "fc2e52a4",
   "metadata": {},
   "outputs": [],
   "source": [
    "library(matlib)\n",
    "library(deSolve)\n",
    "library(ggplot2)\n",
    "dev.new(width=8, height=4.5)"
   ]
  },
  {
   "cell_type": "code",
   "execution_count": 2,
   "id": "8bff1b98",
   "metadata": {},
   "outputs": [
    {
     "name": "stderr",
     "output_type": "stream",
     "text": [
      "also installing the dependencies 'bit', 'cachem', 'farver', 'fs', 'rappdirs', 'bit64', 'progress', 'processx', 'xfun', 'lifecycle', 'memoise', 'blob', 'tidyselect', 'vctrs', 'glue', 'isoband', 'scales', 'gargle', 'ids', 'cpp11', 'timechange', 'systemfonts', 'textshaping', 'vroom', 'tzdb', 'callr', 'knitr', 'stringi', 'broom', 'conflicted', 'cli', 'dbplyr', 'dplyr', 'dtplyr', 'forcats', 'ggplot2', 'googledrive', 'googlesheets4', 'haven', 'hms', 'httr', 'jsonlite', 'lubridate', 'magrittr', 'modelr', 'pillar', 'purrr', 'ragg', 'readr', 'readxl', 'reprex', 'rlang', 'rstudioapi', 'rvest', 'stringr', 'tibble', 'tidyr', 'xml2'\n",
      "\n"
     ]
    },
    {
     "name": "stdout",
     "output_type": "stream",
     "text": [
      "\n",
      "  There are binary versions available but the source versions are later:\n",
      "              binary source needs_compilation\n",
      "bit            4.0.4  4.0.5              TRUE\n",
      "cachem         1.0.4  1.0.7              TRUE\n",
      "farver         2.1.0  2.1.1              TRUE\n",
      "fs             1.5.0  1.6.1              TRUE\n",
      "processx       3.5.2  3.8.1              TRUE\n",
      "xfun            0.22   0.39              TRUE\n",
      "lifecycle      1.0.0  1.0.3             FALSE\n",
      "memoise        2.0.0  2.0.1             FALSE\n",
      "blob           1.2.1  1.2.4             FALSE\n",
      "tidyselect     1.1.1  1.2.0             FALSE\n",
      "vctrs          0.3.8  0.6.2              TRUE\n",
      "glue           1.4.2  1.6.2              TRUE\n",
      "isoband        0.2.4  0.2.7              TRUE\n",
      "scales         1.1.1  1.2.1             FALSE\n",
      "gargle         1.1.0  1.4.0             FALSE\n",
      "cpp11          0.2.7  0.4.3             FALSE\n",
      "timechange     0.0.2  0.2.0              TRUE\n",
      "systemfonts    1.0.2  1.0.4              TRUE\n",
      "textshaping    0.3.4  0.3.6              TRUE\n",
      "vroom          1.4.0  1.6.1              TRUE\n",
      "tzdb           0.1.1  0.3.0              TRUE\n",
      "callr          3.7.0  3.7.3             FALSE\n",
      "knitr           1.33   1.42             FALSE\n",
      "stringi        1.6.1 1.7.12              TRUE\n",
      "broom          0.7.6  1.0.4             FALSE\n",
      "conflicted     1.0.4  1.2.0             FALSE\n",
      "cli            2.5.0  3.6.1              TRUE\n",
      "dbplyr         2.1.1  2.3.2             FALSE\n",
      "dplyr          1.0.6  1.1.2              TRUE\n",
      "dtplyr         1.1.0  1.3.1             FALSE\n",
      "forcats        0.5.1  1.0.0             FALSE\n",
      "ggplot2        3.3.3  3.4.2             FALSE\n",
      "googledrive    1.0.1  2.1.0             FALSE\n",
      "googlesheets4  0.3.0  1.1.0             FALSE\n",
      "haven          2.4.1  2.5.2              TRUE\n",
      "hms            1.0.0  1.1.3             FALSE\n",
      "httr           1.4.2  1.4.5             FALSE\n",
      "jsonlite       1.7.2  1.8.4              TRUE\n",
      "lubridate     1.7.10  1.9.2              TRUE\n",
      "magrittr       2.0.1  2.0.3              TRUE\n",
      "modelr         0.1.8 0.1.11             FALSE\n",
      "pillar         1.6.0  1.9.0             FALSE\n",
      "purrr          0.3.4  1.0.1              TRUE\n",
      "ragg           1.1.2  1.2.5              TRUE\n",
      "readr          1.4.0  2.1.4              TRUE\n",
      "readxl         1.3.1  1.4.2              TRUE\n",
      "reprex         2.0.0  2.0.2             FALSE\n",
      "rlang         0.4.11  1.1.0              TRUE\n",
      "rstudioapi      0.13   0.14             FALSE\n",
      "rvest          1.0.0  1.0.3             FALSE\n",
      "stringr        1.4.0  1.5.0             FALSE\n",
      "tibble         3.1.1  3.2.1              TRUE\n",
      "tidyr          1.1.3  1.3.0              TRUE\n",
      "xml2           1.3.2  1.3.3              TRUE\n",
      "tidyverse      1.3.1  2.0.0             FALSE\n",
      "\n",
      "  Binaries will be installed\n",
      "package 'bit' successfully unpacked and MD5 sums checked\n",
      "package 'cachem' successfully unpacked and MD5 sums checked\n",
      "package 'farver' successfully unpacked and MD5 sums checked\n",
      "package 'fs' successfully unpacked and MD5 sums checked\n",
      "package 'rappdirs' successfully unpacked and MD5 sums checked\n",
      "package 'bit64' successfully unpacked and MD5 sums checked\n",
      "package 'progress' successfully unpacked and MD5 sums checked\n",
      "package 'processx' successfully unpacked and MD5 sums checked\n",
      "package 'xfun' successfully unpacked and MD5 sums checked\n",
      "package 'vctrs' successfully unpacked and MD5 sums checked\n",
      "package 'glue' successfully unpacked and MD5 sums checked\n",
      "package 'isoband' successfully unpacked and MD5 sums checked\n",
      "package 'ids' successfully unpacked and MD5 sums checked\n",
      "package 'timechange' successfully unpacked and MD5 sums checked\n",
      "package 'systemfonts' successfully unpacked and MD5 sums checked\n",
      "package 'textshaping' successfully unpacked and MD5 sums checked\n",
      "package 'vroom' successfully unpacked and MD5 sums checked\n",
      "package 'tzdb' successfully unpacked and MD5 sums checked\n",
      "package 'stringi' successfully unpacked and MD5 sums checked\n",
      "package 'cli' successfully unpacked and MD5 sums checked\n",
      "package 'dplyr' successfully unpacked and MD5 sums checked\n",
      "package 'haven' successfully unpacked and MD5 sums checked\n",
      "package 'jsonlite' successfully unpacked and MD5 sums checked\n"
     ]
    },
    {
     "name": "stderr",
     "output_type": "stream",
     "text": [
      "Warning message:\n",
      "\"cannot remove prior installation of package 'jsonlite'\"Warning message in file.copy(savedcopy, lib, recursive = TRUE):\n",
      "\"problem copying D:\\Anaconda\\envs\\myenv\\lib\\R\\library\\00LOCK\\jsonlite\\libs\\x64\\jsonlite.dll to D:\\Anaconda\\envs\\myenv\\lib\\R\\library\\jsonlite\\libs\\x64\\jsonlite.dll: Permission denied\"Warning message:\n",
      "\"restored 'jsonlite'\""
     ]
    },
    {
     "name": "stdout",
     "output_type": "stream",
     "text": [
      "package 'lubridate' successfully unpacked and MD5 sums checked\n",
      "package 'magrittr' successfully unpacked and MD5 sums checked\n",
      "package 'purrr' successfully unpacked and MD5 sums checked\n",
      "package 'ragg' successfully unpacked and MD5 sums checked\n",
      "package 'readr' successfully unpacked and MD5 sums checked\n",
      "package 'readxl' successfully unpacked and MD5 sums checked\n",
      "package 'rlang' successfully unpacked and MD5 sums checked\n",
      "package 'tibble' successfully unpacked and MD5 sums checked\n",
      "package 'tidyr' successfully unpacked and MD5 sums checked\n",
      "package 'xml2' successfully unpacked and MD5 sums checked\n",
      "\n",
      "The downloaded binary packages are in\n",
      "\tC:\\Users\\joely\\AppData\\Local\\Temp\\Rtmp48znSy\\downloaded_packages\n"
     ]
    },
    {
     "name": "stderr",
     "output_type": "stream",
     "text": [
      "installing the source packages 'lifecycle', 'memoise', 'blob', 'tidyselect', 'scales', 'gargle', 'cpp11', 'callr', 'knitr', 'broom', 'conflicted', 'dbplyr', 'dtplyr', 'forcats', 'ggplot2', 'googledrive', 'googlesheets4', 'hms', 'httr', 'modelr', 'pillar', 'reprex', 'rstudioapi', 'rvest', 'stringr', 'tidyverse'\n",
      "\n",
      "Warning message in install.packages(\"tidyverse\"):\n",
      "\"installation of package 'lifecycle' had non-zero exit status\"Warning message in install.packages(\"tidyverse\"):\n",
      "\"installation of package 'callr' had non-zero exit status\"Warning message in install.packages(\"tidyverse\"):\n",
      "\"installation of package 'knitr' had non-zero exit status\"Warning message in install.packages(\"tidyverse\"):\n",
      "\"installation of package 'tidyselect' had non-zero exit status\"Warning message in install.packages(\"tidyverse\"):\n",
      "\"installation of package 'scales' had non-zero exit status\"Warning message in install.packages(\"tidyverse\"):\n",
      "\"installation of package 'gargle' had non-zero exit status\"Warning message in install.packages(\"tidyverse\"):\n",
      "\"installation of package 'conflicted' had non-zero exit status\"Warning message in install.packages(\"tidyverse\"):\n",
      "\"installation of package 'forcats' had non-zero exit status\"Warning message in install.packages(\"tidyverse\"):\n",
      "\"installation of package 'hms' had non-zero exit status\"Warning message in install.packages(\"tidyverse\"):\n",
      "\"installation of package 'pillar' had non-zero exit status\"Warning message in install.packages(\"tidyverse\"):\n",
      "\"installation of package 'reprex' had non-zero exit status\"Warning message in install.packages(\"tidyverse\"):\n",
      "\"installation of package 'rvest' had non-zero exit status\"Warning message in install.packages(\"tidyverse\"):\n",
      "\"installation of package 'stringr' had non-zero exit status\"Warning message in install.packages(\"tidyverse\"):\n",
      "\"installation of package 'broom' had non-zero exit status\"Warning message in install.packages(\"tidyverse\"):\n",
      "\"installation of package 'dbplyr' had non-zero exit status\"Warning message in install.packages(\"tidyverse\"):\n",
      "\"installation of package 'dtplyr' had non-zero exit status\"Warning message in install.packages(\"tidyverse\"):\n",
      "\"installation of package 'ggplot2' had non-zero exit status\"Warning message in install.packages(\"tidyverse\"):\n",
      "\"installation of package 'googledrive' had non-zero exit status\"Warning message in install.packages(\"tidyverse\"):\n",
      "\"installation of package 'googlesheets4' had non-zero exit status\"Warning message in install.packages(\"tidyverse\"):\n",
      "\"installation of package 'modelr' had non-zero exit status\"Warning message in install.packages(\"tidyverse\"):\n",
      "\"installation of package 'tidyverse' had non-zero exit status\""
     ]
    }
   ],
   "source": [
    "install.packages('tidyverse')"
   ]
  },
  {
   "cell_type": "markdown",
   "id": "915ea1ed",
   "metadata": {},
   "source": [
    "## SIR model\n",
    "We first decide what model to use. Using X,Y,Z to represent total numbers instead of proportions: \n",
    "\n",
    "$\\frac{dX}{dt} = -\\frac{\\beta{X}{Y}}{N}$\n",
    "\n",
    "$\\frac{dY}{dt} = \\frac{\\beta{X}{Y}}{N} - \\gamma{Y}$\n",
    "\n",
    "$\\frac{dZ}{dt} = \\gamma{Y}$"
   ]
  },
  {
   "cell_type": "code",
   "execution_count": 86,
   "id": "19ffbd21",
   "metadata": {},
   "outputs": [],
   "source": [
    "model <- function(beta, gamma, initial_conditions, times){\n",
    "    equations <- function(time, variables, parameters) {\n",
    "        with(as.list(c(variables, parameters)), {\n",
    "            N <- X+Y+Z\n",
    "            dX <- -beta * X * Y/N\n",
    "            dY <- beta * X*Y/N - gamma * Y\n",
    "            dZ <-  gamma * Y\n",
    "            return(list(c(dX, dY, dZ)))\n",
    "        })\n",
    "    }\n",
    "    out <- ode(\n",
    "        y = initial_conditions,\n",
    "        times = c(0,times),\n",
    "        func = equations,\n",
    "        parms = c(beta=beta, gamma=gamma) \n",
    "    )\n",
    "    # Always have to pass t=0 state to ode solver as it gets it's IC from t=0.\n",
    "    return(as.data.frame(out)[-1,])\n",
    "}"
   ]
  },
  {
   "cell_type": "markdown",
   "id": "e71256cb",
   "metadata": {},
   "source": [
    "## Dataset"
   ]
  },
  {
   "cell_type": "code",
   "execution_count": 108,
   "id": "0a325656",
   "metadata": {
    "scrolled": false
   },
   "outputs": [
    {
     "data": {
      "image/png": "[encoded data removed]",
      "text/plain": [
       "Plot with title \"1978 Boarding School\n",
       "Influenza Outbreak\""
      ]
     },
     "metadata": {},
     "output_type": "display_data"
    }
   ],
   "source": [
    "df <- data.frame(read.csv('Datasets/Chapter4.csv', header=TRUE))\n",
    "N = 763\n",
    "df$days <- df$days - 1\n",
    "initial_conditions <- c(X=(N-df$cases[1]), Y=df$cases[1], Z=0)\n",
    "plot(df$days, df$cases, xlab='Days', ylab='Infected', main='1978 Boarding School\n",
    "Influenza Outbreak', col='red', pch=4, lwd=1.6)"
   ]
  },
  {
   "cell_type": "markdown",
   "id": "2a258ed3",
   "metadata": {},
   "source": [
    "## Generic model comparison code\n",
    "Function to compare model results to data quicker."
   ]
  },
  {
   "cell_type": "code",
   "execution_count": 88,
   "id": "ae6e5f84",
   "metadata": {},
   "outputs": [],
   "source": [
    "compare_model <- function(predicted, title, times){\n",
    "    plot(df$days, df$cases, xlab='Days', ylab='Prevalence', col='red', lwd=1.6, pch=4)\n",
    "    legend(9, 300, legend=c(\"Predicted\", \"Actual\"),\n",
    "           col=c(\"red\", \"blue\"), lty=1:5, y.intersp=2)\n",
    "    \n",
    "    lines(loess(predicted~times), col='blue', lty=5)\n",
    "    title(title)\n",
    "}"
   ]
  },
  {
   "cell_type": "markdown",
   "id": "0062d544",
   "metadata": {},
   "source": [
    "## 1.1 Least Squares \n",
    "First we do basic least squares as a base benchmark "
   ]
  },
  {
   "cell_type": "code",
   "execution_count": 89,
   "id": "550a449e",
   "metadata": {},
   "outputs": [],
   "source": [
    "sse <- function(params) {\n",
    "  I0 <- df$cases[1]\n",
    "  times <- df$days\n",
    "  predictions <- model(beta = params[1], gamma = params[2], initial_conditions,times = df$days)\n",
    "  sum((predictions$Y[-1] - df$cases[-1])^2)\n",
    "}"
   ]
  },
  {
   "cell_type": "code",
   "execution_count": 90,
   "id": "0ca03262",
   "metadata": {},
   "outputs": [
    {
     "data": {
      "text/html": [
       "3897.90020341931"
      ],
      "text/latex": [
       "3897.90020341931"
      ],
      "text/markdown": [
       "3897.90020341931"
      ],
      "text/plain": [
       "[1] 3897.9"
      ]
     },
     "metadata": {},
     "output_type": "display_data"
    }
   ],
   "source": [
    "starting_param_val <- c(1, 1)\n",
    "ss_optim <- optim(starting_param_val, sse)\n",
    "parameters_ss <- c(beta=ss_optim$par[1], gamma=ss_optim$par[2])\n",
    "ss_optim$value"
   ]
  },
  {
   "cell_type": "markdown",
   "id": "ee16604d",
   "metadata": {},
   "source": [
    "## 1.2 Least Squares Analysis"
   ]
  },
  {
   "cell_type": "code",
   "execution_count": 91,
   "id": "ad43a07a",
   "metadata": {},
   "outputs": [
    {
     "data": {
      "text/html": [
       "<dl class=dl-horizontal>\n",
       "\t<dt>beta</dt>\n",
       "\t\t<dd>1.69781541681757</dd>\n",
       "\t<dt>gamma</dt>\n",
       "\t\t<dd>0.451239548994663</dd>\n",
       "</dl>\n"
      ],
      "text/latex": [
       "\\begin{description*}\n",
       "\\item[beta] 1.69781541681757\n",
       "\\item[gamma] 0.451239548994663\n",
       "\\end{description*}\n"
      ],
      "text/markdown": [
       "beta\n",
       ":   1.69781541681757gamma\n",
       ":   0.451239548994663\n",
       "\n"
      ],
      "text/plain": [
       "     beta     gamma \n",
       "1.6978154 0.4512395 "
      ]
     },
     "metadata": {},
     "output_type": "display_data"
    }
   ],
   "source": [
    "times <- seq(1,20,0.1)\n",
    "ss_model <-model(gamma=as.double(parameters_ss['gamma']),\n",
    "                       beta=as.double(parameters_ss['beta']),\n",
    "                       times = times,\n",
    "                       initial_conditions=initial_conditions)\n",
    "parameters_ss"
   ]
  },
  {
   "cell_type": "code",
   "execution_count": 92,
   "id": "0d310e18",
   "metadata": {
    "scrolled": false
   },
   "outputs": [
    {
     "data": {
      "image/png": "[encoded data removed]",
      "text/plain": [
       "Plot with title \"Influenza Outbreak with SIR Model using Least Squares\""
      ]
     },
     "metadata": {},
     "output_type": "display_data"
    }
   ],
   "source": [
    "compare_model(ss_model$Y, \"Influenza Outbreak with SIR Model using Least Squares\", times)"
   ]
  },
  {
   "cell_type": "markdown",
   "id": "b0ab56c7",
   "metadata": {},
   "source": [
    "## Normal likelihood"
   ]
  },
  {
   "cell_type": "code",
   "execution_count": 93,
   "id": "c9148fd2",
   "metadata": {},
   "outputs": [],
   "source": [
    "normalLL <- function(beta, gamma, sigma){\n",
    "    model_data <- model(beta = beta, gamma = gamma, times=df$days, initial_conditions=initial_conditions)$Y[-1]\n",
    "    -sum(dnorm(x=df$cases[-1],mean=model_data, sd=sigma, log=TRUE))\n",
    "}"
   ]
  },
  {
   "cell_type": "code",
   "execution_count": 94,
   "id": "b4f5ead5",
   "metadata": {},
   "outputs": [
    {
     "data": {
      "text/html": [
       "<dl class=dl-horizontal>\n",
       "\t<dt>beta</dt>\n",
       "\t\t<dd>1.69775331481114</dd>\n",
       "\t<dt>gamma</dt>\n",
       "\t\t<dd>0.451227990687439</dd>\n",
       "\t<dt>sigma</dt>\n",
       "\t\t<dd>17.3157731841196</dd>\n",
       "\t<dt>logLik</dt>\n",
       "\t\t<dd>55.5172838824838</dd>\n",
       "\t<dt>AIC</dt>\n",
       "\t\t<dd>117.034567764968</dd>\n",
       "</dl>\n"
      ],
      "text/latex": [
       "\\begin{description*}\n",
       "\\item[beta] 1.69775331481114\n",
       "\\item[gamma] 0.451227990687439\n",
       "\\item[sigma] 17.3157731841196\n",
       "\\item[logLik] 55.5172838824838\n",
       "\\item[AIC] 117.034567764968\n",
       "\\end{description*}\n"
      ],
      "text/markdown": [
       "beta\n",
       ":   1.69775331481114gamma\n",
       ":   0.451227990687439sigma\n",
       ":   17.3157731841196logLik\n",
       ":   55.5172838824838AIC\n",
       ":   117.034567764968\n",
       "\n"
      ],
      "text/plain": [
       "      beta      gamma      sigma     logLik        AIC \n",
       "  1.697753   0.451228  17.315773  55.517284 117.034568 "
      ]
     },
     "metadata": {},
     "output_type": "display_data"
    },
    {
     "data": {
      "image/png": "[encoded data removed]",
      "text/plain": [
       "Plot with title \"SIR Model using Normal MLE\""
      ]
     },
     "metadata": {},
     "output_type": "display_data"
    }
   ],
   "source": [
    "starting_param_val <- c(ss_optim$par, 10)\n",
    "nMLL <- function(params) normalLL(params[1], params[2], params[3])\n",
    "\n",
    "normal_optim <- optim(starting_param_val, nMLL, lower=c(0,0,1),\n",
    "                 upper=c(10,10,1000),\n",
    "                 method=\"L-BFGS-B\",hessian=TRUE)\n",
    "normal_params<-c(beta=(normal_optim$par[1]), gamma=(normal_optim$par[2]), sigma=(normal_optim$par[3]), logLik=normal_optim$value, AIC=6+2*normal_optim$value)\n",
    "normal_params\n",
    "\n",
    "normal_model <-c(as.double(model(gamma=as.double(normal_params['gamma']),\n",
    "                       beta=as.double(normal_params['beta']),\n",
    "                       times = times,\n",
    "                       initial_conditions=initial_conditions)$Y))\n",
    "compare_model(normal_model, \"SIR Model using Normal MLE\", times)"
   ]
  },
  {
   "cell_type": "markdown",
   "id": "3645eb51",
   "metadata": {},
   "source": [
    "## Poisson likelihood"
   ]
  },
  {
   "cell_type": "code",
   "execution_count": 95,
   "id": "8b772934",
   "metadata": {},
   "outputs": [],
   "source": [
    "poissonLL <- function(beta, gamma){\n",
    "    model_data <- model(beta = beta, gamma = gamma, times=df$days, initial_conditions=initial_conditions)$Y[-1]\n",
    "    -sum(dpois(x = df$cases[-1], lambda = model_data, log = TRUE))\n",
    "}\n",
    "\n",
    "pLL <- function(params) poissonLL(params[1], params[2])"
   ]
  },
  {
   "cell_type": "code",
   "execution_count": 96,
   "id": "44898a51",
   "metadata": {},
   "outputs": [
    {
     "data": {
      "text/html": [
       "<dl class=dl-horizontal>\n",
       "\t<dt>beta</dt>\n",
       "\t\t<dd>1.7220825112154</dd>\n",
       "\t<dt>gamma</dt>\n",
       "\t\t<dd>0.479797300699169</dd>\n",
       "\t<dt>logLik</dt>\n",
       "\t\t<dd>71.7689849011894</dd>\n",
       "\t<dt>AIC</dt>\n",
       "\t\t<dd>75.7689849011894</dd>\n",
       "</dl>\n"
      ],
      "text/latex": [
       "\\begin{description*}\n",
       "\\item[beta] 1.7220825112154\n",
       "\\item[gamma] 0.479797300699169\n",
       "\\item[logLik] 71.7689849011894\n",
       "\\item[AIC] 75.7689849011894\n",
       "\\end{description*}\n"
      ],
      "text/markdown": [
       "beta\n",
       ":   1.7220825112154gamma\n",
       ":   0.479797300699169logLik\n",
       ":   71.7689849011894AIC\n",
       ":   75.7689849011894\n",
       "\n"
      ],
      "text/plain": [
       "      beta      gamma     logLik        AIC \n",
       " 1.7220825  0.4797973 71.7689849 75.7689849 "
      ]
     },
     "metadata": {},
     "output_type": "display_data"
    },
    {
     "data": {
      "image/png": "[encoded data removed]",
      "text/plain": [
       "Plot with title \"SIR Model using Poisson MLE\""
      ]
     },
     "metadata": {},
     "output_type": "display_data"
    }
   ],
   "source": [
    "poisson_optim <- optim(ss_optim$par, pLL, lower=c(0,0),\n",
    "                 upper=c(10,1),\n",
    "                 method=\"L-BFGS-B\",hessian=TRUE)\n",
    "poisson_params<-c(beta=(poisson_optim$par[1]), gamma=(poisson_optim$par[2]), logLik=poisson_optim$value, AIC=4 + poisson_optim$value)\n",
    "poisson_params\n",
    "\n",
    "poisson_model <-c(as.double(model(gamma=as.double(poisson_params['gamma']),\n",
    "                       beta=as.double(poisson_params['beta']),\n",
    "                       times = times,\n",
    "                       initial_conditions=initial_conditions)$Y))\n",
    "compare_model(poisson_model, \"SIR Model using Poisson MLE\", times)"
   ]
  },
  {
   "cell_type": "markdown",
   "id": "64638cea",
   "metadata": {},
   "source": [
    "## Negative Binomial Likelihood"
   ]
  },
  {
   "cell_type": "code",
   "execution_count": 97,
   "id": "9c390986",
   "metadata": {},
   "outputs": [
    {
     "data": {
      "text/html": [
       "<dl class=dl-horizontal>\n",
       "\t<dt>beta</dt>\n",
       "\t\t<dd>1.7602671111206</dd>\n",
       "\t<dt>gamma</dt>\n",
       "\t\t<dd>0.53638737426793</dd>\n",
       "\t<dt>dispersion</dt>\n",
       "\t\t<dd>13.0785211519423</dd>\n",
       "\t<dt>logLik</dt>\n",
       "\t\t<dd>58.4701022590868</dd>\n",
       "\t<dt>AIC</dt>\n",
       "\t\t<dd>62.4701022590868</dd>\n",
       "</dl>\n"
      ],
      "text/latex": [
       "\\begin{description*}\n",
       "\\item[beta] 1.7602671111206\n",
       "\\item[gamma] 0.53638737426793\n",
       "\\item[dispersion] 13.0785211519423\n",
       "\\item[logLik] 58.4701022590868\n",
       "\\item[AIC] 62.4701022590868\n",
       "\\end{description*}\n"
      ],
      "text/markdown": [
       "beta\n",
       ":   1.7602671111206gamma\n",
       ":   0.53638737426793dispersion\n",
       ":   13.0785211519423logLik\n",
       ":   58.4701022590868AIC\n",
       ":   62.4701022590868\n",
       "\n"
      ],
      "text/plain": [
       "      beta      gamma dispersion     logLik        AIC \n",
       " 1.7602671  0.5363874 13.0785212 58.4701023 62.4701023 "
      ]
     },
     "metadata": {},
     "output_type": "display_data"
    },
    {
     "data": {
      "image/png": "[encoded data removed]",
      "text/plain": [
       "Plot with title \"SIR Model using Negative Binomial MLE\""
      ]
     },
     "metadata": {},
     "output_type": "display_data"
    }
   ],
   "source": [
    "negativeBinLL <- function(beta, gamma, dispersion){\n",
    "    model_data <- model(beta = beta, gamma = gamma, times=df$days, initial_conditions=initial_conditions)$Y[-1]\n",
    "    -sum(dnbinom(x=df$cases[-1], s=dispersion, mu=model_data, log=TRUE))\n",
    "}\n",
    "\n",
    "nLL <- function(params) negativeBinLL(params[1], params[2], params[3])\n",
    "\n",
    "negativeBin_optim <- optim(c(ss_optim$par,10), nLL, lower=c(0,0,-Inf),\n",
    "                 upper=c(10,1, Inf),\n",
    "                 method=\"L-BFGS-B\", hessian=TRUE)\n",
    "negativeBin_params<-c(beta=(negativeBin_optim$par[1]), gamma=(negativeBin_optim$par[2]), dispersion=(negativeBin_optim$par[3]),logLik=negativeBin_optim$value, AIC=4 + negativeBin_optim$value)\n",
    "negativeBin_params\n",
    "\n",
    "negativeBin_model <-c(as.double(model(gamma=as.double(negativeBin_params['gamma']),\n",
    "                       beta=as.double(negativeBin_params['beta']),\n",
    "                       times = times,\n",
    "                       initial_conditions=initial_conditions)$Y))\n",
    "compare_model(negativeBin_model, \"SIR Model using Negative Binomial MLE\", times)"
   ]
  },
  {
   "cell_type": "markdown",
   "id": "57125cda",
   "metadata": {},
   "source": [
    "## Plotting Uncertainties\n",
    "Note that the negative sign is not here as it cancels with the negative log-likelihood"
   ]
  },
  {
   "cell_type": "code",
   "execution_count": 98,
   "id": "29a58e37",
   "metadata": {
    "scrolled": true
   },
   "outputs": [],
   "source": [
    "negativeBin_err <- sqrt(diag(inv(negativeBin_optim$hessian)));\n",
    "poisson_err <- sqrt(diag(inv(poisson_optim$hessian)));\n",
    "normal_err <- sqrt(diag(inv(normal_optim$hessian)));"
   ]
  },
  {
   "cell_type": "code",
   "execution_count": 99,
   "id": "c186c215",
   "metadata": {
    "scrolled": false
   },
   "outputs": [
    {
     "data": {
      "image/png": "[encoded data removed]",
      "text/plain": [
       "plot without title"
      ]
     },
     "metadata": {},
     "output_type": "display_data"
    }
   ],
   "source": [
    "beta_estimates <- data.frame(distribution = c('Normal', 'Poisson', 'Negative Binomial'),\n",
    "                             value=c(normal_params['beta'],poisson_params['beta'], negativeBin_params['beta']),\n",
    "                             uncertainty = c(normal_err[1], poisson_err[1], negativeBin_err[1]));\n",
    "\n",
    "ggplot(beta_estimates, aes(x = distribution, y=value)) +\n",
    "  geom_errorbar(aes(ymin=value-uncertainty, ymax=value+uncertainty), width=.5,\n",
    "                 position=position_dodge(.9), color='red')+geom_point(color='green')+theme_classic()+labs(title=\"Comparison of Distributions for Beta\",\n",
    "        x =\"Distribution\", y = \"Value\")+ theme(plot.title = element_text(hjust = 0.5))"
   ]
  },
  {
   "cell_type": "code",
   "execution_count": 100,
   "id": "9b02c169",
   "metadata": {},
   "outputs": [
    {
     "data": {
      "image/png": "[encoded data removed]",
      "text/plain": [
       "plot without title"
      ]
     },
     "metadata": {},
     "output_type": "display_data"
    }
   ],
   "source": [
    "gamma_estimates <- data.frame(distribution = c('Normal', 'Poisson', 'Negative Binomial'),\n",
    "                             value=c(normal_params['gamma'],poisson_params['gamma'], negativeBin_params['gamma']),\n",
    "                             uncertainty = c(normal_err[2], poisson_err[2], negativeBin_err[2]));\n",
    "\n",
    "ggplot(gamma_estimates, aes(x = distribution, y=value)) +\n",
    "  geom_errorbar(aes(ymin=value-uncertainty, ymax=value+uncertainty), width=.5,\n",
    "                 position=position_dodge(.9), color='red')+geom_point(color='green')+theme_classic()+labs(title=\"Comparison of Distributions for Gamma\",\n",
    "        x =\"Distribution\", y = \"Value\")+ theme(plot.title = element_text(hjust = 0.5))"
   ]
  },
  {
   "cell_type": "markdown",
   "id": "3b642f8b",
   "metadata": {},
   "source": [
    "## Initial Growth\n",
    "Considering the dataset in log space and then restricting dataset to linear(ish) subset of logspace data. "
   ]
  },
  {
   "cell_type": "code",
   "execution_count": 101,
   "id": "70abc161",
   "metadata": {
    "scrolled": false
   },
   "outputs": [
    {
     "data": {
      "image/png": "[encoded data removed]",
      "text/plain": [
       "Plot with title \"Logarithmic Data\""
      ]
     },
     "metadata": {},
     "output_type": "display_data"
    }
   ],
   "source": [
    "plot(df$days, log(df$cases), xlab='Days', ylab='Log(Infected)', main='Logarithmic Data', col='red', pch=4, lwd=1.6)"
   ]
  },
  {
   "cell_type": "code",
   "execution_count": 111,
   "id": "8964f239",
   "metadata": {},
   "outputs": [
    {
     "data": {
      "image/png": "[encoded data removed]",
      "text/plain": [
       "Plot with title \"Line of Best Fit\""
      ]
     },
     "metadata": {},
     "output_type": "display_data"
    }
   ],
   "source": [
    "expgrowth_df <- head(df,5);\n",
    "#create scatter plot of x vs. y\n",
    "plot(expgrowth_df$days, log(expgrowth_df$cases), xlab='Days', ylab='Log(Infected)', main='Line of Best Fit', col='red', pch=4, lwd=1.6)\n",
    "\n",
    "#add line of best fit to scatter plot\n",
    "abline(lm(log(expgrowth_df$cases) ~ expgrowth_df$days), col='blue' , lty='dashed')"
   ]
  },
  {
   "cell_type": "code",
   "execution_count": 115,
   "id": "f8b4e3df",
   "metadata": {},
   "outputs": [
    {
     "data": {
      "text/html": [
       "<table>\n",
       "<thead><tr><th></th><th scope=col>Estimate</th><th scope=col>Std. Error</th><th scope=col>t value</th><th scope=col>Pr(&gt;|t|)</th></tr></thead>\n",
       "<tbody>\n",
       "\t<tr><th scope=row>(Intercept)</th><td>1.077752    </td><td>0.05490936  </td><td>19.62784    </td><td>0.0002889412</td></tr>\n",
       "\t<tr><th scope=row>expgrowth_df$days</th><td>1.083715    </td><td>0.02241665  </td><td>48.34418    </td><td>0.0000194881</td></tr>\n",
       "</tbody>\n",
       "</table>\n"
      ],
      "text/latex": [
       "\\begin{tabular}{r|llll}\n",
       "  & Estimate & Std. Error & t value & Pr(>\\textbar{}t\\textbar{})\\\\\n",
       "\\hline\n",
       "\t(Intercept) & 1.077752     & 0.05490936   & 19.62784     & 0.0002889412\\\\\n",
       "\texpgrowth\\_df\\$days & 1.083715     & 0.02241665   & 48.34418     & 0.0000194881\\\\\n",
       "\\end{tabular}\n"
      ],
      "text/markdown": [
       "\n",
       "| <!--/--> | Estimate | Std. Error | t value | Pr(>|t|) |\n",
       "|---|---|---|---|---|\n",
       "| (Intercept) | 1.077752     | 0.05490936   | 19.62784     | 0.0002889412 |\n",
       "| expgrowth_df$days | 1.083715     | 0.02241665   | 48.34418     | 0.0000194881 |\n",
       "\n"
      ],
      "text/plain": [
       "                  Estimate Std. Error t value  Pr(>|t|)    \n",
       "(Intercept)       1.077752 0.05490936 19.62784 0.0002889412\n",
       "expgrowth_df$days 1.083715 0.02241665 48.34418 0.0000194881"
      ]
     },
     "metadata": {},
     "output_type": "display_data"
    }
   ],
   "source": [
    "coefficients <- summary(lm(log(expgrowth_df$cases) ~ expgrowth_df$days))$coefficients;\n",
    "coefficients"
   ]
  },
  {
   "cell_type": "markdown",
   "id": "548c6e9d",
   "metadata": {},
   "source": [
    "## Comparing Exponential Model with Model"
   ]
  },
  {
   "cell_type": "code",
   "execution_count": 120,
   "id": "dfb7b079",
   "metadata": {},
   "outputs": [
    {
     "data": {
      "image/png": "[encoded data removed]",
      "text/plain": [
       "Plot with title \"1978 Boarding School\n",
       "Influenza Outbreak\""
      ]
     },
     "metadata": {},
     "output_type": "display_data"
    },
    {
     "data": {
      "image/png": "[encoded data removed]",
      "text/plain": [
       "Plot with title \"Exponential Growth Model\""
      ]
     },
     "metadata": {},
     "output_type": "display_data"
    }
   ],
   "source": [
    "plot(df$days, df$cases, xlab='Days', ylab='Infected', main='1978 Boarding School\n",
    "Influenza Outbreak', col='red', pch=4, lwd=1.6)\n",
    "predicted <- coefficients[1]*exp(coefficients[2]*times);\n",
    "compare_model(predicted, \"Exponential Growth Model\", times)"
   ]
  },
  {
   "cell_type": "markdown",
   "id": "af887767",
   "metadata": {},
   "source": [
    "## MCMC"
   ]
  },
  {
   "cell_type": "code",
   "execution_count": null,
   "id": "66f7bdcc",
   "metadata": {},
   "outputs": [],
   "source": []
  }
 ],
 "metadata": {
  "kernelspec": {
   "display_name": "R",
   "language": "R",
   "name": "ir"
  },
  "language_info": {
   "codemirror_mode": "r",
   "file_extension": ".r",
   "mimetype": "text/x-r-source",
   "name": "R",
   "pygments_lexer": "r",
   "version": "3.6.1"
  }
 },
 "nbformat": 4,
 "nbformat_minor": 5
}
